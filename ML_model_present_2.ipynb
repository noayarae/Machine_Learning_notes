{
  "nbformat": 4,
  "nbformat_minor": 0,
  "metadata": {
    "colab": {
      "name": "ML_model_present_2.ipynb",
      "provenance": [],
      "collapsed_sections": [],
      "authorship_tag": "ABX9TyNpnh3NOsBK8fc9iEr2GT+t",
      "include_colab_link": true
    },
    "kernelspec": {
      "name": "python3",
      "display_name": "Python 3"
    },
    "language_info": {
      "name": "python"
    }
  },
  "cells": [
    {
      "cell_type": "markdown",
      "metadata": {
        "id": "view-in-github",
        "colab_type": "text"
      },
      "source": [
        "<a href=\"https://colab.research.google.com/github/noayarae/Machine_Learning_notes/blob/main/ML_model_present_2.ipynb\" target=\"_parent\"><img src=\"https://colab.research.google.com/assets/colab-badge.svg\" alt=\"Open In Colab\"/></a>"
      ]
    },
    {
      "cell_type": "code",
      "metadata": {
        "colab": {
          "base_uri": "https://localhost:8080/"
        },
        "id": "zacRhS2GgSDd",
        "outputId": "50023b06-c19c-4808-c244-85dd29c9f8d5"
      },
      "source": [
        "# forecast monthly births with xgboost\n",
        "# import lybraries\n",
        "from numpy import asarray\n",
        "from pandas import read_csv\n",
        "from pandas import DataFrame\n",
        "from pandas import concat\n",
        "from sklearn.metrics import mean_absolute_error\n",
        "from xgboost import XGBRegressor\n",
        "from matplotlib import pyplot\n",
        "\n",
        "import xgboost\n",
        "print(\"xgboost\", xgboost.__version__)"
      ],
      "execution_count": 3,
      "outputs": [
        {
          "output_type": "stream",
          "text": [
            "xgboost 0.90\n"
          ],
          "name": "stdout"
        }
      ]
    },
    {
      "cell_type": "code",
      "metadata": {
        "id": "EQZW9eZaoYAr"
      },
      "source": [
        "# transform a time series dataset into a supervised learning dataset\n",
        "# ---------------- Function 1 ------------------\n",
        "def series_to_supervised(data, n_in=1, n_out=1, dropnan=True):\n",
        "\tn_vars = 1 if type(data) is list else data.shape[1]\n",
        "\tdf = DataFrame(data)\n",
        "\tcols = list()\n",
        "\t# input sequence (t-n, ... t-1)\n",
        "\tfor i in range(n_in, 0, -1):\n",
        "\t\tcols.append(df.shift(i))\n",
        "\t# forecast sequence (t, t+1, ... t+n)\n",
        "\tfor i in range(0, n_out):\n",
        "\t\tcols.append(df.shift(-i))\n",
        "\t# put it all together\n",
        "\tagg = concat(cols, axis=1)\n",
        "\t# drop rows with NaN values\n",
        "\tif dropnan:\n",
        "\t\tagg.dropna(inplace=True)\n",
        "\treturn agg.values\n",
        "\n",
        "### To test\n",
        "'''values = [10, 20, 30, 40, 50, 60, 70, 80, 90]\n",
        "data = series_to_supervised(values, n_in=2) # 'n_in' is the lag\n",
        "print (values)\n",
        "print (data)\n",
        "[10, 20, 30, 40, 50, 60, 70, 80, 90]\n",
        "[[10. 20. 30.]\n",
        " [20. 30. 40.]\n",
        " [30. 40. 50.]\n",
        " [40. 50. 60.]\n",
        " [50. 60. 70.]\n",
        " [60. 70. 80.]\n",
        " [70. 80. 90.]] #'''"
      ],
      "execution_count": null,
      "outputs": []
    },
    {
      "cell_type": "code",
      "metadata": {
        "id": "6tlbVUsqgswi"
      },
      "source": [
        "import numpy as np\n",
        "# split a univariate dataset into train/test sets\n",
        "# ------------ Function 2a -------------\n",
        "def train_test_split(data, n_test):\n",
        "\treturn data[:-n_test, :], data[-n_test:, :]\n",
        "\n",
        "# fit an xgboost model and make a one step prediction\n",
        "# ------------ Function 2b -------------\n",
        "def xgboost_forecast(train, testX):\n",
        "\t# transform list into array\n",
        "\ttrain = asarray(train)\n",
        "\t# split into input and output columns\n",
        "\ttrainX, trainy = train[:, :-1], train[:, -1]\n",
        "\t# fit model\n",
        "\tmodel = XGBRegressor(objective='reg:squarederror', n_estimators=1000)\n",
        "\tmodel.fit(trainX, trainy)\n",
        "\t# make a one-step prediction\n",
        "\tyhat = model.predict(asarray([testX]))\n",
        "\treturn yhat[0], model\n",
        "\n",
        "# walk-forward validation for univariate data\n",
        "# --------------- Function 2 ------------------\n",
        "def walk_forward_validation(data, n_test):\n",
        "\tpredictions = list()\n",
        "\t# split dataset\n",
        "\ttrain, test = train_test_split(data, n_test)      #   -------> Function 2a\n",
        "\t# seed history with training dataset\n",
        "\thistory = [x for x in train]\n",
        "\t# step over each time-step in the test set\n",
        "\tfor i in range(len(test)):\n",
        "\t\t# split test row into input and output columns\n",
        "\t\ttestX, testy = test[i, :-1], test[i, -1]\n",
        "\t\t# fit model on history and make a prediction\n",
        "\t\tyhat, model = xgboost_forecast(history, testX)         #   ------> Function 2b\n",
        "\t\t# store forecast in list of predictions\n",
        "\t\tpredictions.append(yhat)\n",
        "\t\t# add actual observation to history for the next loop\n",
        "\t\thistory.append(test[i])\n",
        "\t\t# summarize progress\n",
        "\t\tprint('>expected=%.1f, predicted=%.1f' % (testy, yhat))\n",
        "\t# estimate prediction error\n",
        "\terror = mean_absolute_error(test[:, -1], predictions)\n",
        "\treturn error, test[:, -1], predictions, model"
      ],
      "execution_count": 25,
      "outputs": []
    },
    {
      "cell_type": "code",
      "metadata": {
        "id": "S4gMLPz5TEq-"
      },
      "source": [
        "### load the dataset ('birth_data.csv')\n",
        "#series = read_csv('daily-total-female-births.csv', header=0, index_col=0)\n",
        "series = read_csv('birth_data.csv', header=0, index_col=0)\n",
        "values = series.values\n",
        "#print (values)"
      ],
      "execution_count": 34,
      "outputs": []
    },
    {
      "cell_type": "code",
      "metadata": {
        "id": "TS6MLvaD6aH5"
      },
      "source": [
        "### load the dataset ('stream_temp.csv')\n",
        "import numpy as np\n",
        "df1 = read_csv('stream_temp.csv', header=0, index_col=0)\n",
        "#print (df1)\n",
        "df2 = df1[['ta_0','sr','rh','wd','pp','tw']] # Select only variables to work\n",
        "print (df2)\n",
        "npa = np.asarray(df2, dtype=np.float32) # Convert data into numpy array\n",
        "print (npa)"
      ],
      "execution_count": null,
      "outputs": []
    },
    {
      "cell_type": "code",
      "metadata": {
        "id": "pQQKdTARLP5w"
      },
      "source": [
        "### load the dataset ('strm_temp_sb31.csv')\n",
        "import numpy as np\n",
        "d1 = read_csv('strm_temp_sb31.csv', header=0, index_col=0)\n",
        "#print (d1)\n",
        "d2 = d1[['t_air','s_rad','rh','wind','snow','gw','s_flow','lat_f','sb_yld','tw']] \n",
        "print (d2)\n",
        "npa2 = np.asarray(d2, dtype=np.float32) # Convert pandas data-frame to np array\n",
        "print (npa2)"
      ],
      "execution_count": null,
      "outputs": []
    },
    {
      "cell_type": "code",
      "metadata": {
        "id": "4UmB7gysh8c1"
      },
      "source": [
        "# transform the time series data into supervised learning\n",
        "data = series_to_supervised(values, n_in=2) # 'n_in' is the # of lags -------> Function 1\n",
        "data = npa2 # Get values directly from above 'strm_temp_sb31.csv'\n",
        "print (len(values),len(data))\n",
        "print (data)"
      ],
      "execution_count": null,
      "outputs": []
    },
    {
      "cell_type": "code",
      "metadata": {
        "colab": {
          "base_uri": "https://localhost:8080/",
          "height": 509
        },
        "id": "Kjj8KHhBiWo9",
        "outputId": "7f0cb1f7-ced2-4b71-fb9f-01680d3b65f1"
      },
      "source": [
        "# evaluate\n",
        "# walk_forward_validation(data, 40 predictions)\n",
        "mae, y, yhat, model = walk_forward_validation(data, 10)  #      --------> Function 2\n",
        "print('MAE: %.3f' % mae)\n",
        "#print('RMSE: %.3f' % rmse)\n",
        "# plot expected vs preducted\n",
        "pyplot.plot(y, label='Expected')\n",
        "pyplot.plot(yhat, label='Predicted')\n",
        "pyplot.legend()\n",
        "pyplot.show()"
      ],
      "execution_count": 48,
      "outputs": [
        {
          "output_type": "stream",
          "text": [
            "/usr/local/lib/python3.7/dist-packages/xgboost/core.py:613: UserWarning: Use subset (sliced data) of np.ndarray is not recommended because it will generate extra copies and increase memory consumption\n",
            "  warnings.warn(\"Use subset (sliced data) of np.ndarray is not recommended \" +\n"
          ],
          "name": "stderr"
        },
        {
          "output_type": "stream",
          "text": [
            ">expected=6.0, predicted=6.5\n",
            ">expected=7.1, predicted=7.0\n",
            ">expected=7.5, predicted=8.0\n",
            ">expected=6.8, predicted=7.6\n",
            ">expected=6.6, predicted=6.4\n",
            ">expected=6.6, predicted=6.8\n",
            ">expected=6.9, predicted=7.4\n",
            ">expected=7.7, predicted=8.3\n",
            ">expected=7.3, predicted=8.4\n",
            ">expected=5.8, predicted=6.4\n",
            "MAE: 0.501\n"
          ],
          "name": "stdout"
        },
        {
          "output_type": "display_data",
          "data": {
            "image/png": "[encoded data removed]",
            "text/plain": [
              "<Figure size 432x288 with 1 Axes>"
            ]
          },
          "metadata": {
            "needs_background": "light"
          }
        }
      ]
    },
    {
      "cell_type": "code",
      "metadata": {
        "colab": {
          "base_uri": "https://localhost:8080/",
          "height": 299
        },
        "id": "3bjph8DasmI6",
        "outputId": "44ffe207-e673-4751-c9a9-e5ef5a313fec"
      },
      "source": [
        "print(model.feature_importances_)\n",
        "# plot\n",
        "pyplot.bar(range(len(model.feature_importances_)), model.feature_importances_)\n",
        "pyplot.show()"
      ],
      "execution_count": 32,
      "outputs": [
        {
          "output_type": "stream",
          "text": [
            "[0.8333061  0.01464248 0.00886022 0.01325608 0.00796375 0.01857714\n",
            " 0.00328388 0.07597035 0.02414   ]\n"
          ],
          "name": "stdout"
        },
        {
          "output_type": "display_data",
          "data": {
            "image/png": "[encoded data removed]",
            "text/plain": [
              "<Figure size 432x288 with 1 Axes>"
            ]
          },
          "metadata": {
            "needs_background": "light"
          }
        }
      ]
    },
    {
      "cell_type": "code",
      "metadata": {
        "colab": {
          "base_uri": "https://localhost:8080/"
        },
        "id": "535wbvZ812Gg",
        "outputId": "7f01287e-c617-458b-d269-9559f99f91c7"
      },
      "source": [
        "# evaluate an xgboost regression model on the housing dataset\n",
        "from numpy import absolute\n",
        "from pandas import read_csv\n",
        "from sklearn.model_selection import cross_val_score\n",
        "from sklearn.model_selection import RepeatedKFold\n",
        "from xgboost import XGBRegressor\n",
        "# load the dataset\n",
        "url = 'https://raw.githubusercontent.com/jbrownlee/Datasets/master/housing.csv'\n",
        "dataframe = read_csv(url, header=None)\n",
        "data = dataframe.values\n",
        "print (len(data), len(data[0]))\n",
        "# split data into input and output columns\n",
        "X, y = data[:, :-1], data[:, -1]\n",
        "# define model\n",
        "model = XGBRegressor()\n",
        "# define model evaluation method\n",
        "cv = RepeatedKFold(n_splits=10, n_repeats=3, random_state=1)\n",
        "print (cv)\n",
        "# evaluate model\n",
        "scores = cross_val_score(model, X, y, scoring='neg_mean_absolute_error', cv=cv, n_jobs=-1)\n",
        "# force scores to be positive\n",
        "scores = absolute(scores)\n",
        "print('Mean MAE: %.3f (%.3f)' % (scores.mean(), scores.std()) )"
      ],
      "execution_count": 43,
      "outputs": [
        {
          "output_type": "stream",
          "text": [
            "506 14\n",
            "RepeatedKFold(n_repeats=3, n_splits=10, random_state=1)\n",
            "Mean MAE: 2.146 (0.328)\n"
          ],
          "name": "stdout"
        }
      ]
    },
    {
      "cell_type": "code",
      "metadata": {
        "colab": {
          "base_uri": "https://localhost:8080/"
        },
        "id": "BwgE1tga2QmJ",
        "outputId": "117c3097-b053-43fd-e5ab-185ed77613ea"
      },
      "source": [
        "rkf = RepeatedKFold(n_splits=2, n_repeats=2, random_state=2652124)\n",
        "print (rkf.split(X))"
      ],
      "execution_count": 44,
      "outputs": [
        {
          "output_type": "stream",
          "text": [
            "<generator object _RepeatedSplits.split at 0x7f96a956cdd0>\n"
          ],
          "name": "stdout"
        }
      ]
    }
  ]
}