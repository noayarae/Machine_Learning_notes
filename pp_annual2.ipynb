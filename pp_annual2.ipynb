{
  "nbformat": 4,
  "nbformat_minor": 0,
  "metadata": {
    "colab": {
      "name": "pp_annual.ipynb",
      "provenance": [],
      "authorship_tag": "ABX9TyNeVo3KO/73dPcbu/uoM1/S",
      "include_colab_link": true
    },
    "kernelspec": {
      "name": "python3",
      "display_name": "Python 3"
    },
    "language_info": {
      "name": "python"
    }
  },
  "cells": [
    {
      "cell_type": "markdown",
      "metadata": {
        "id": "view-in-github",
        "colab_type": "text"
      },
      "source": [
        "<a href=\"https://colab.research.google.com/github/noayarae/Machine_Learning_notes/blob/main/pp_annual2.ipynb\" target=\"_parent\"><img src=\"https://colab.research.google.com/assets/colab-badge.svg\" alt=\"Open In Colab\"/></a>"
      ]
    },
    {
      "cell_type": "code",
      "metadata": {
        "id": "XdcsCJh7AYc3"
      },
      "source": [
        "# Importing the libraries \n",
        "import numpy as np \n",
        "import matplotlib.pyplot as plt \n",
        "import pandas as pd"
      ],
      "execution_count": 2,
      "outputs": []
    },
    {
      "cell_type": "code",
      "metadata": {
        "colab": {
          "base_uri": "https://localhost:8080/"
        },
        "id": "ZGIJLnALziWK",
        "outputId": "ec11c577-8d9c-475e-c415-c0fe4b65d590"
      },
      "source": [
        "# Importing the dataset NO transf\n",
        "dataset = pd.read_csv('precip.csv') \n",
        "X = dataset.iloc[:, 2:3].values \n",
        "y = dataset.iloc[:, 3].values\n",
        "#print (X)\n",
        "#print (y)\n",
        "\n",
        "# Fitting SVR to the dataset (Old, New)\n",
        "from sklearn.svm import SVR \n",
        "regressor = SVR(kernel = 'rbf') \n",
        "#regressor.fit(X2, y2)\n",
        "regressor.fit(X, y)\n",
        "\n",
        "# Predicting a new result (Old)\n",
        "y_pred = regressor.predict(X)\n",
        "pvt1 = 3520\n",
        "y_pred1 = regressor.predict([[pvt1]]) #y_pred1 = regressor.predict([[6.5]])\n",
        "print (y_pred)\n",
        "print (y_pred1)"
      ],
      "execution_count": 3,
      "outputs": [
        {
          "output_type": "stream",
          "text": [
            "[489.66444806 488.07922902 487.89783959 488.04161842 488.74377932\n",
            " 491.10223445 493.1977656  495.56281917 496.14725735 496.32361116\n",
            " 496.35561211 495.86375615]\n",
            "[494.64068161]\n"
          ],
          "name": "stdout"
        }
      ]
    },
    {
      "cell_type": "code",
      "metadata": {
        "colab": {
          "base_uri": "https://localhost:8080/"
        },
        "id": "pR7n2Iab0Ppu",
        "outputId": "76add195-d385-4c24-d6e1-5a9633a5c826"
      },
      "source": [
        "# Importing the dataset WITH transf\n",
        "dataset = pd.read_csv('precip.csv') \n",
        "a = dataset.iloc[:, 2:3].values \n",
        "b = dataset.iloc[:, 3].values\n",
        "#print (a), print (b)\n",
        "\n",
        "# Feature Scaling \n",
        "from sklearn.preprocessing import StandardScaler\n",
        "sc_a = StandardScaler()\n",
        "sc_b = StandardScaler()\n",
        "a2 = sc_a.fit_transform(a)\n",
        "#y = sc_b.fit_transform(b)\n",
        "b2 = sc_b.fit_transform(b.reshape(-1, 1))\n",
        "\n",
        "pv = 3520\n",
        "pvt1 = (pv-a.mean())/a.std()\n",
        "print (pvt1)\n",
        "#pvt2 = sc_a.fit_transform(a)\n",
        "\n",
        "\n",
        "# Fitting SVR to the dataset (Old, New)\n",
        "from sklearn.svm import SVR \n",
        "regressor = SVR(kernel = 'rbf') \n",
        "regressor.fit(a2, b2)\n",
        "\n",
        "# Predicting a new result (Old)\n",
        "print (\"pred1\")\n",
        "y_pred = regressor.predict(a2)\n",
        "print (y_pred)\n",
        "y_pred = sc_b.inverse_transform(y_pred)\n",
        "print (y_pred)\n",
        "\n",
        "print (\"pred2\")\n",
        "y_pred1 = regressor.predict([[pvt1]]) #y_pred1 = regressor.predict([[0.348]])\n",
        "print (y_pred1), \n",
        "y_pred1 = sc_b.inverse_transform(y_pred1)\n",
        "print (y_pred1)"
      ],
      "execution_count": 4,
      "outputs": [
        {
          "output_type": "stream",
          "text": [
            "0.48175854557076997\n",
            "pred1\n",
            "[-1.28267232 -1.10733989 -0.79424315 -0.74869391 -0.60772594 -0.25270881\n",
            "  0.09195143  0.61081605  0.80984839  0.90868497  0.97646861  1.02605978]\n",
            "[145.52876022 198.7269148  293.72456504 307.54479927 350.31632725\n",
            " 458.03317204 562.60760126 720.03791887 780.42693648 810.41524912\n",
            " 830.98169452 846.02830313]\n",
            "pred2\n",
            "[0.3803115]\n",
            "[650.09982006]\n"
          ],
          "name": "stdout"
        },
        {
          "output_type": "stream",
          "text": [
            "/usr/local/lib/python3.7/dist-packages/sklearn/utils/validation.py:760: DataConversionWarning: A column-vector y was passed when a 1d array was expected. Please change the shape of y to (n_samples, ), for example using ravel().\n",
            "  y = column_or_1d(y, warn=True)\n"
          ],
          "name": "stderr"
        }
      ]
    },
    {
      "cell_type": "code",
      "metadata": {
        "colab": {
          "base_uri": "https://localhost:8080/",
          "height": 279
        },
        "id": "oReUT_qqDuPk",
        "outputId": "9dea4f0d-cf89-4282-bb92-31767684dc31"
      },
      "source": [
        "# Visualising the SVR results (New)\n",
        "plt.scatter(X, y, color = 'red')\n",
        "#sc_b.inverse_transform() \n",
        "plt.plot(X, y_pred, color = 'blue') \n",
        "plt.xlabel('Altitud') \n",
        "plt.ylabel('Precipitacion')\n",
        "plt.grid()\n",
        "#grid(color='r', linestyle='-', linewidth=2)\n",
        "plt.show()"
      ],
      "execution_count": 5,
      "outputs": [
        {
          "output_type": "display_data",
          "data": {
            "image/png": "[encoded data removed]",
            "text/plain": [
              "<Figure size 432x288 with 1 Axes>"
            ]
          },
          "metadata": {
            "needs_background": "light"
          }
        }
      ]
    },
    {
      "cell_type": "code",
      "metadata": {
        "colab": {
          "base_uri": "https://localhost:8080/"
        },
        "id": "tFFTEL9QEXCr",
        "outputId": "526fa722-8abe-4df1-c458-40e7b78483ab"
      },
      "source": [
        "# Importing the dataset WITH transf\n",
        "dataset = pd.read_csv('precip2.csv') \n",
        "a = dataset.iloc[:, 2:3].values \n",
        "b = dataset.iloc[:, 3].values\n",
        "#print (a), print (b)\n",
        "\n",
        "# Feature Scaling \n",
        "from sklearn.preprocessing import StandardScaler\n",
        "sc_a = StandardScaler()\n",
        "sc_b = StandardScaler()\n",
        "a2 = sc_a.fit_transform(a)\n",
        "#y = sc_b.fit_transform(b)\n",
        "b2 = sc_b.fit_transform(b.reshape(-1, 1))\n",
        "\n",
        "pv = 3520\n",
        "pvt1 = (pv-a.mean())/a.std()\n",
        "print (pvt1)\n",
        "#pvt2 = sc_a.fit_transform(a)\n",
        "\n",
        "# Fitting SVR to the dataset (Old, New)\n",
        "from sklearn.svm import SVR \n",
        "regressor = SVR(kernel = 'rbf') \n",
        "regressor.fit(a2, b2)\n",
        "\n",
        "# Predicting a new result (Old)\n",
        "print (\"pred1\")\n",
        "y_pred = regressor.predict(a2)\n",
        "print (y_pred)\n",
        "y_pred = sc_b.inverse_transform(y_pred)\n",
        "print (y_pred)\n",
        "\n",
        "print (\"pred2\")\n",
        "y_pred1 = regressor.predict([[pvt1]]) #y_pred1 = regressor.predict([[0.348]])\n",
        "print (y_pred1), \n",
        "y_pred1 = sc_b.inverse_transform(y_pred1)\n",
        "print (y_pred1)"
      ],
      "execution_count": 8,
      "outputs": [
        {
          "output_type": "stream",
          "text": [
            "0.4817585455707699\n",
            "pred1\n",
            "[-1.28267232 -1.10733989 -0.79424315 -0.74869391  0.80984839  0.90868497\n",
            "  0.97646861  1.02605978 -0.60772594 -0.25270881  0.09195143  0.61081605]\n",
            "[145.52876022 198.7269148  293.72456504 307.54479927 780.42693648\n",
            " 810.41524912 830.98169452 846.02830313 350.31632725 458.03317204\n",
            " 562.60760126 720.03791887]\n",
            "pred2\n",
            "[0.3803115]\n",
            "[650.09982006]\n"
          ],
          "name": "stdout"
        },
        {
          "output_type": "stream",
          "text": [
            "/usr/local/lib/python3.7/dist-packages/sklearn/utils/validation.py:760: DataConversionWarning: A column-vector y was passed when a 1d array was expected. Please change the shape of y to (n_samples, ), for example using ravel().\n",
            "  y = column_or_1d(y, warn=True)\n"
          ],
          "name": "stderr"
        }
      ]
    },
    {
      "cell_type": "code",
      "metadata": {
        "colab": {
          "base_uri": "https://localhost:8080/",
          "height": 279
        },
        "id": "TvtUiMW7FLs_",
        "outputId": "662c933a-135e-4d05-b633-e246393181c2"
      },
      "source": [
        "# Visualising the SVR results (New)\n",
        "plt.scatter(X, y, color = 'red')\n",
        "#sc_b.inverse_transform() \n",
        "plt.plot(X, y_pred, color = 'blue') \n",
        "plt.xlabel('Altitud') \n",
        "plt.ylabel('Precipitacion')\n",
        "plt.grid()\n",
        "#grid(color='r', linestyle='-', linewidth=2)\n",
        "plt.show()"
      ],
      "execution_count": 9,
      "outputs": [
        {
          "output_type": "display_data",
          "data": {
            "image/png": "[encoded data removed]",
            "text/plain": [
              "<Figure size 432x288 with 1 Axes>"
            ]
          },
          "metadata": {
            "needs_background": "light"
          }
        }
      ]
    }
  ]
}